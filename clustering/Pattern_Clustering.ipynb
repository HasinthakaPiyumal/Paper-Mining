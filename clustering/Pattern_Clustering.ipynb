{
  "cells": [
    {
      "cell_type": "code",
      "execution_count": 1,
      "metadata": {
        "id": "m_9BVqZLMOha"
      },
      "outputs": [],
      "source": [
        "import pandas as pd\n",
        "from sklearn.cluster import KMeans,DBSCAN\n"
      ]
    },
    {
      "cell_type": "code",
      "execution_count": 2,
      "metadata": {
        "id": "xhQ5e2QeNNao"
      },
      "outputs": [],
      "source": [
        "data = pd.read_csv(\"/home/hasinthaka/Documents/Projects/AI/AI Pattern Mining/Paper Mining/outputs/[25.09.12] - 02 - Prompt, Temperature, Embedding Model, Clustering changes/pattern_embeddings.csv\")"
      ]
    },
    {
      "cell_type": "markdown",
      "metadata": {
        "id": "z-fBLBKb7Opr"
      },
      "source": []
    },
    {
      "cell_type": "code",
      "execution_count": 3,
      "metadata": {
        "colab": {
          "base_uri": "https://localhost:8080/",
          "height": 533
        },
        "id": "NJ0oufRa5Z2o",
        "outputId": "73638478-89f5-4be9-be3c-cf6f47f96182"
      },
      "outputs": [
        {
          "data": {
            "text/html": [
              "<div>\n",
              "<style scoped>\n",
              "    .dataframe tbody tr th:only-of-type {\n",
              "        vertical-align: middle;\n",
              "    }\n",
              "\n",
              "    .dataframe tbody tr th {\n",
              "        vertical-align: top;\n",
              "    }\n",
              "\n",
              "    .dataframe thead th {\n",
              "        text-align: right;\n",
              "    }\n",
              "</style>\n",
              "<table border=\"1\" class=\"dataframe\">\n",
              "  <thead>\n",
              "    <tr style=\"text-align: right;\">\n",
              "      <th></th>\n",
              "      <th>0</th>\n",
              "      <th>1</th>\n",
              "      <th>2</th>\n",
              "      <th>3</th>\n",
              "      <th>4</th>\n",
              "      <th>5</th>\n",
              "      <th>6</th>\n",
              "      <th>7</th>\n",
              "      <th>8</th>\n",
              "      <th>9</th>\n",
              "      <th>...</th>\n",
              "      <th>3063</th>\n",
              "      <th>3064</th>\n",
              "      <th>3065</th>\n",
              "      <th>3066</th>\n",
              "      <th>3067</th>\n",
              "      <th>3068</th>\n",
              "      <th>3069</th>\n",
              "      <th>3070</th>\n",
              "      <th>3071</th>\n",
              "      <th>Pattern Name</th>\n",
              "    </tr>\n",
              "  </thead>\n",
              "  <tbody>\n",
              "    <tr>\n",
              "      <th>0</th>\n",
              "      <td>-0.026390</td>\n",
              "      <td>0.016877</td>\n",
              "      <td>0.003469</td>\n",
              "      <td>-0.059432</td>\n",
              "      <td>0.000679</td>\n",
              "      <td>-0.007049</td>\n",
              "      <td>-0.003441</td>\n",
              "      <td>0.006716</td>\n",
              "      <td>0.005773</td>\n",
              "      <td>-0.004502</td>\n",
              "      <td>...</td>\n",
              "      <td>0.000156</td>\n",
              "      <td>0.005030</td>\n",
              "      <td>-0.020272</td>\n",
              "      <td>-0.005736</td>\n",
              "      <td>0.017508</td>\n",
              "      <td>-0.018598</td>\n",
              "      <td>-0.011882</td>\n",
              "      <td>0.009154</td>\n",
              "      <td>-0.006871</td>\n",
              "      <td>LLM-Augmented Knowledge Base</td>\n",
              "    </tr>\n",
              "    <tr>\n",
              "      <th>1</th>\n",
              "      <td>-0.022682</td>\n",
              "      <td>0.022629</td>\n",
              "      <td>-0.001960</td>\n",
              "      <td>-0.067257</td>\n",
              "      <td>-0.014537</td>\n",
              "      <td>-0.008264</td>\n",
              "      <td>-0.013734</td>\n",
              "      <td>0.020719</td>\n",
              "      <td>0.007014</td>\n",
              "      <td>-0.014342</td>\n",
              "      <td>...</td>\n",
              "      <td>-0.003781</td>\n",
              "      <td>-0.001719</td>\n",
              "      <td>-0.009078</td>\n",
              "      <td>-0.001407</td>\n",
              "      <td>0.013591</td>\n",
              "      <td>-0.020204</td>\n",
              "      <td>-0.013302</td>\n",
              "      <td>0.010415</td>\n",
              "      <td>-0.010209</td>\n",
              "      <td>LLM as Semantic Content Encoder</td>\n",
              "    </tr>\n",
              "    <tr>\n",
              "      <th>2</th>\n",
              "      <td>-0.024981</td>\n",
              "      <td>0.021741</td>\n",
              "      <td>0.003734</td>\n",
              "      <td>-0.071455</td>\n",
              "      <td>-0.012520</td>\n",
              "      <td>-0.001127</td>\n",
              "      <td>-0.007317</td>\n",
              "      <td>0.030100</td>\n",
              "      <td>0.006767</td>\n",
              "      <td>-0.007825</td>\n",
              "      <td>...</td>\n",
              "      <td>-0.009118</td>\n",
              "      <td>0.007417</td>\n",
              "      <td>-0.026991</td>\n",
              "      <td>-0.003931</td>\n",
              "      <td>0.005830</td>\n",
              "      <td>-0.011905</td>\n",
              "      <td>-0.008184</td>\n",
              "      <td>0.015207</td>\n",
              "      <td>-0.002978</td>\n",
              "      <td>Instruction Tuning for Recommendation</td>\n",
              "    </tr>\n",
              "    <tr>\n",
              "      <th>3</th>\n",
              "      <td>-0.009939</td>\n",
              "      <td>0.020262</td>\n",
              "      <td>0.005763</td>\n",
              "      <td>-0.075995</td>\n",
              "      <td>-0.015393</td>\n",
              "      <td>-0.010150</td>\n",
              "      <td>0.001580</td>\n",
              "      <td>0.017709</td>\n",
              "      <td>0.014028</td>\n",
              "      <td>-0.011873</td>\n",
              "      <td>...</td>\n",
              "      <td>0.008201</td>\n",
              "      <td>-0.000316</td>\n",
              "      <td>-0.019606</td>\n",
              "      <td>0.001669</td>\n",
              "      <td>0.006667</td>\n",
              "      <td>-0.010740</td>\n",
              "      <td>-0.017044</td>\n",
              "      <td>0.020824</td>\n",
              "      <td>-0.011099</td>\n",
              "      <td>LLM as Explainable Recommender</td>\n",
              "    </tr>\n",
              "    <tr>\n",
              "      <th>4</th>\n",
              "      <td>-0.013650</td>\n",
              "      <td>0.012573</td>\n",
              "      <td>0.001938</td>\n",
              "      <td>-0.070984</td>\n",
              "      <td>-0.010045</td>\n",
              "      <td>-0.003161</td>\n",
              "      <td>-0.007739</td>\n",
              "      <td>0.016244</td>\n",
              "      <td>0.006855</td>\n",
              "      <td>0.003499</td>\n",
              "      <td>...</td>\n",
              "      <td>0.003709</td>\n",
              "      <td>-0.000981</td>\n",
              "      <td>-0.017630</td>\n",
              "      <td>0.001765</td>\n",
              "      <td>0.004956</td>\n",
              "      <td>-0.004938</td>\n",
              "      <td>-0.008712</td>\n",
              "      <td>0.009176</td>\n",
              "      <td>-0.003024</td>\n",
              "      <td>LLM as Direct Recommender (via In-Context Lear...</td>\n",
              "    </tr>\n",
              "  </tbody>\n",
              "</table>\n",
              "<p>5 rows × 3073 columns</p>\n",
              "</div>"
            ],
            "text/plain": [
              "          0         1         2         3         4         5         6  \\\n",
              "0 -0.026390  0.016877  0.003469 -0.059432  0.000679 -0.007049 -0.003441   \n",
              "1 -0.022682  0.022629 -0.001960 -0.067257 -0.014537 -0.008264 -0.013734   \n",
              "2 -0.024981  0.021741  0.003734 -0.071455 -0.012520 -0.001127 -0.007317   \n",
              "3 -0.009939  0.020262  0.005763 -0.075995 -0.015393 -0.010150  0.001580   \n",
              "4 -0.013650  0.012573  0.001938 -0.070984 -0.010045 -0.003161 -0.007739   \n",
              "\n",
              "          7         8         9  ...      3063      3064      3065      3066  \\\n",
              "0  0.006716  0.005773 -0.004502  ...  0.000156  0.005030 -0.020272 -0.005736   \n",
              "1  0.020719  0.007014 -0.014342  ... -0.003781 -0.001719 -0.009078 -0.001407   \n",
              "2  0.030100  0.006767 -0.007825  ... -0.009118  0.007417 -0.026991 -0.003931   \n",
              "3  0.017709  0.014028 -0.011873  ...  0.008201 -0.000316 -0.019606  0.001669   \n",
              "4  0.016244  0.006855  0.003499  ...  0.003709 -0.000981 -0.017630  0.001765   \n",
              "\n",
              "       3067      3068      3069      3070      3071  \\\n",
              "0  0.017508 -0.018598 -0.011882  0.009154 -0.006871   \n",
              "1  0.013591 -0.020204 -0.013302  0.010415 -0.010209   \n",
              "2  0.005830 -0.011905 -0.008184  0.015207 -0.002978   \n",
              "3  0.006667 -0.010740 -0.017044  0.020824 -0.011099   \n",
              "4  0.004956 -0.004938 -0.008712  0.009176 -0.003024   \n",
              "\n",
              "                                        Pattern Name  \n",
              "0                       LLM-Augmented Knowledge Base  \n",
              "1                    LLM as Semantic Content Encoder  \n",
              "2              Instruction Tuning for Recommendation  \n",
              "3                     LLM as Explainable Recommender  \n",
              "4  LLM as Direct Recommender (via In-Context Lear...  \n",
              "\n",
              "[5 rows x 3073 columns]"
            ]
          },
          "execution_count": 3,
          "metadata": {},
          "output_type": "execute_result"
        }
      ],
      "source": [
        "data.head()"
      ]
    },
    {
      "cell_type": "code",
      "execution_count": 4,
      "metadata": {
        "id": "caSlbp6b5fxw"
      },
      "outputs": [],
      "source": [
        "embeddings = data.drop(labels=[\"Pattern Name\"],axis=1)"
      ]
    },
    {
      "cell_type": "markdown",
      "metadata": {},
      "source": [
        "### Checking Distance"
      ]
    },
    {
      "cell_type": "code",
      "execution_count": 5,
      "metadata": {},
      "outputs": [
        {
          "name": "stdout",
          "output_type": "stream",
          "text": [
            "Min distance: 0.0\n",
            "Max distance: 0.751403258123237\n",
            "Mean distance: 0.576608073121368\n"
          ]
        }
      ],
      "source": [
        "from sklearn.metrics import pairwise_distances\n",
        "import numpy as np\n",
        "\n",
        "distances = pairwise_distances(embeddings)\n",
        "print(\"Min distance:\", distances.min())\n",
        "print(\"Max distance:\", distances.max())\n",
        "print(\"Mean distance:\", distances.mean())"
      ]
    },
    {
      "cell_type": "markdown",
      "metadata": {},
      "source": [
        "## KMeans Clustering"
      ]
    },
    {
      "cell_type": "code",
      "execution_count": 5,
      "metadata": {
        "id": "ttpgMpIjMnxj"
      },
      "outputs": [],
      "source": [
        "num_clusters = 50\n",
        "kmeans = KMeans(n_clusters=num_clusters, random_state=42, n_init=10)\n",
        "labels = kmeans.fit_predict(embeddings)\n"
      ]
    },
    {
      "cell_type": "markdown",
      "metadata": {},
      "source": [
        "## DBSCAN Clustering"
      ]
    },
    {
      "cell_type": "code",
      "execution_count": 10,
      "metadata": {},
      "outputs": [
        {
          "data": {
            "text/plain": [
              "array([ 0,  0,  0,  0,  0,  0,  0,  0,  0,  0,  0,  0,  0,  0,  0,  0,  0,\n",
              "        0,  0,  0,  0,  0,  0,  0,  0,  1,  0,  0,  0,  0,  0,  0,  0,  0,\n",
              "        0,  0,  0,  0,  0,  0,  0,  0,  0,  0,  0,  0,  0,  0,  0,  0,  0,\n",
              "        0,  0,  0,  0,  0,  0,  0,  0,  0,  0,  0,  0,  0,  0,  0,  0,  0,\n",
              "        0,  0,  0,  0,  0,  0,  0,  0,  0,  0,  0,  0,  0,  0,  0,  0,  0,\n",
              "        0,  0,  0,  0,  0,  0,  0,  0,  0,  0,  0,  0,  0,  0,  2,  0,  0,\n",
              "        0,  0,  0,  0,  0,  0,  0,  0,  3,  3,  3,  3,  3,  3,  3,  3,  3,\n",
              "        0,  0,  0,  0,  0,  0,  0,  0,  0,  0,  0,  0,  0,  0,  0,  0,  0,\n",
              "        0,  0,  0,  0,  0,  0,  0,  0,  0,  0,  0,  0,  0,  0,  0,  0,  0,\n",
              "        0,  0,  0,  0,  0,  4,  5,  6,  7,  8,  9, 10, 11, 12, 13, 14, 15,\n",
              "       16, 17,  9, 18,  4, 12, 19, 20, 21, 13,  0,  0,  0,  0,  0,  0, 22,\n",
              "       23,  0,  0,  0,  0, 24,  0,  0,  0,  0,  0,  0,  0,  0,  0,  0,  0,\n",
              "        0, 25,  0,  0,  0,  0,  0,  0,  0,  0,  0,  0,  0,  0,  0,  0])"
            ]
          },
          "execution_count": 10,
          "metadata": {},
          "output_type": "execute_result"
        }
      ],
      "source": [
        "dbscan = DBSCAN(eps=0.12,min_samples=1, metric='cosine')\n",
        "labels = dbscan.fit_predict(embeddings)\n",
        "labels"
      ]
    },
    {
      "cell_type": "code",
      "execution_count": 11,
      "metadata": {
        "colab": {
          "base_uri": "https://localhost:8080/"
        },
        "id": "_FX_VKjR5wRa",
        "outputId": "38b3376d-a532-4ffb-c1d0-5de6b1e8aeaf"
      },
      "outputs": [
        {
          "data": {
            "text/plain": [
              "array([ 0,  0,  0,  0,  0,  0,  0,  0,  0,  0,  0,  0,  0,  0,  0,  0,  0,\n",
              "        0,  0,  0,  0,  0,  0,  0,  0,  1,  0,  0,  0,  0,  0,  0,  0,  0,\n",
              "        0,  0,  0,  0,  0,  0,  0,  0,  0,  0,  0,  0,  0,  0,  0,  0,  0,\n",
              "        0,  0,  0,  0,  0,  0,  0,  0,  0,  0,  0,  0,  0,  0,  0,  0,  0,\n",
              "        0,  0,  0,  0,  0,  0,  0,  0,  0,  0,  0,  0,  0,  0,  0,  0,  0,\n",
              "        0,  0,  0,  0,  0,  0,  0,  0,  0,  0,  0,  0,  0,  0,  2,  0,  0,\n",
              "        0,  0,  0,  0,  0,  0,  0,  0,  3,  3,  3,  3,  3,  3,  3,  3,  3,\n",
              "        0,  0,  0,  0,  0,  0,  0,  0,  0,  0,  0,  0,  0,  0,  0,  0,  0,\n",
              "        0,  0,  0,  0,  0,  0,  0,  0,  0,  0,  0,  0,  0,  0,  0,  0,  0,\n",
              "        0,  0,  0,  0,  0,  4,  5,  6,  7,  8,  9, 10, 11, 12, 13, 14, 15,\n",
              "       16, 17,  9, 18,  4, 12, 19, 20, 21, 13,  0,  0,  0,  0,  0,  0, 22,\n",
              "       23,  0,  0,  0,  0, 24,  0,  0,  0,  0,  0,  0,  0,  0,  0,  0,  0,\n",
              "        0, 25,  0,  0,  0,  0,  0,  0,  0,  0,  0,  0,  0,  0,  0,  0])"
            ]
          },
          "execution_count": 11,
          "metadata": {},
          "output_type": "execute_result"
        }
      ],
      "source": [
        "labels"
      ]
    },
    {
      "cell_type": "code",
      "execution_count": 12,
      "metadata": {
        "id": "R0gyikT255pL"
      },
      "outputs": [],
      "source": [
        "new_data = data[\"Pattern Name\"]\n",
        "new_data = new_data.to_frame()"
      ]
    },
    {
      "cell_type": "code",
      "execution_count": 13,
      "metadata": {
        "colab": {
          "base_uri": "https://localhost:8080/",
          "height": 424
        },
        "id": "i0vkF3qT6A7K",
        "outputId": "9508abc7-3a3b-48f3-e072-2f70124850b6"
      },
      "outputs": [
        {
          "data": {
            "text/html": [
              "<div>\n",
              "<style scoped>\n",
              "    .dataframe tbody tr th:only-of-type {\n",
              "        vertical-align: middle;\n",
              "    }\n",
              "\n",
              "    .dataframe tbody tr th {\n",
              "        vertical-align: top;\n",
              "    }\n",
              "\n",
              "    .dataframe thead th {\n",
              "        text-align: right;\n",
              "    }\n",
              "</style>\n",
              "<table border=\"1\" class=\"dataframe\">\n",
              "  <thead>\n",
              "    <tr style=\"text-align: right;\">\n",
              "      <th></th>\n",
              "      <th>Pattern Name</th>\n",
              "    </tr>\n",
              "  </thead>\n",
              "  <tbody>\n",
              "    <tr>\n",
              "      <th>0</th>\n",
              "      <td>LLM-Augmented Knowledge Base</td>\n",
              "    </tr>\n",
              "    <tr>\n",
              "      <th>1</th>\n",
              "      <td>LLM as Semantic Content Encoder</td>\n",
              "    </tr>\n",
              "    <tr>\n",
              "      <th>2</th>\n",
              "      <td>Instruction Tuning for Recommendation</td>\n",
              "    </tr>\n",
              "    <tr>\n",
              "      <th>3</th>\n",
              "      <td>LLM as Explainable Recommender</td>\n",
              "    </tr>\n",
              "    <tr>\n",
              "      <th>4</th>\n",
              "      <td>LLM as Direct Recommender (via In-Context Lear...</td>\n",
              "    </tr>\n",
              "    <tr>\n",
              "      <th>...</th>\n",
              "      <td>...</td>\n",
              "    </tr>\n",
              "    <tr>\n",
              "      <th>215</th>\n",
              "      <td>Reasoning Verification (Entailer)</td>\n",
              "    </tr>\n",
              "    <tr>\n",
              "      <th>216</th>\n",
              "      <td>Monte-Carlo Planning for Faithful Reasoning (F...</td>\n",
              "    </tr>\n",
              "    <tr>\n",
              "      <th>217</th>\n",
              "      <td>Retrieval-Augmented Reasoning</td>\n",
              "    </tr>\n",
              "    <tr>\n",
              "      <th>218</th>\n",
              "      <td>LLM as a Semantic Parser</td>\n",
              "    </tr>\n",
              "    <tr>\n",
              "      <th>219</th>\n",
              "      <td>Reasoning on Graphs (RoG)</td>\n",
              "    </tr>\n",
              "  </tbody>\n",
              "</table>\n",
              "<p>220 rows × 1 columns</p>\n",
              "</div>"
            ],
            "text/plain": [
              "                                          Pattern Name\n",
              "0                         LLM-Augmented Knowledge Base\n",
              "1                      LLM as Semantic Content Encoder\n",
              "2                Instruction Tuning for Recommendation\n",
              "3                       LLM as Explainable Recommender\n",
              "4    LLM as Direct Recommender (via In-Context Lear...\n",
              "..                                                 ...\n",
              "215                  Reasoning Verification (Entailer)\n",
              "216  Monte-Carlo Planning for Faithful Reasoning (F...\n",
              "217                      Retrieval-Augmented Reasoning\n",
              "218                           LLM as a Semantic Parser\n",
              "219                          Reasoning on Graphs (RoG)\n",
              "\n",
              "[220 rows x 1 columns]"
            ]
          },
          "execution_count": 13,
          "metadata": {},
          "output_type": "execute_result"
        }
      ],
      "source": [
        "new_data"
      ]
    },
    {
      "cell_type": "code",
      "execution_count": 14,
      "metadata": {
        "id": "SNFXPVTr6bay"
      },
      "outputs": [],
      "source": [
        "new_data[\"cluster\"]= labels"
      ]
    },
    {
      "cell_type": "code",
      "execution_count": 15,
      "metadata": {
        "colab": {
          "base_uri": "https://localhost:8080/",
          "height": 204
        },
        "id": "7QA5Ctim6l-X",
        "outputId": "54cf3592-2b54-484b-d821-54466ebb27c6"
      },
      "outputs": [
        {
          "data": {
            "text/plain": [
              "pandas.core.frame.DataFrame"
            ]
          },
          "execution_count": 15,
          "metadata": {},
          "output_type": "execute_result"
        }
      ],
      "source": [
        "type(new_data)"
      ]
    },
    {
      "cell_type": "code",
      "execution_count": 16,
      "metadata": {
        "colab": {
          "base_uri": "https://localhost:8080/",
          "height": 204
        },
        "id": "kC72I8kM6t-S",
        "outputId": "6007df4d-a2bf-4431-c67f-43f4aaa99269"
      },
      "outputs": [
        {
          "data": {
            "text/plain": [
              "pandas.core.frame.DataFrame"
            ]
          },
          "execution_count": 16,
          "metadata": {},
          "output_type": "execute_result"
        }
      ],
      "source": [
        "type(data)"
      ]
    },
    {
      "cell_type": "code",
      "execution_count": 17,
      "metadata": {
        "colab": {
          "base_uri": "https://localhost:8080/",
          "height": 424
        },
        "id": "oGVTsx007oq9",
        "outputId": "dd702660-bb2c-4d60-8d8b-0e1e09eec07c"
      },
      "outputs": [
        {
          "data": {
            "text/html": [
              "<div>\n",
              "<style scoped>\n",
              "    .dataframe tbody tr th:only-of-type {\n",
              "        vertical-align: middle;\n",
              "    }\n",
              "\n",
              "    .dataframe tbody tr th {\n",
              "        vertical-align: top;\n",
              "    }\n",
              "\n",
              "    .dataframe thead th {\n",
              "        text-align: right;\n",
              "    }\n",
              "</style>\n",
              "<table border=\"1\" class=\"dataframe\">\n",
              "  <thead>\n",
              "    <tr style=\"text-align: right;\">\n",
              "      <th></th>\n",
              "      <th>Pattern Name</th>\n",
              "      <th>cluster</th>\n",
              "    </tr>\n",
              "  </thead>\n",
              "  <tbody>\n",
              "    <tr>\n",
              "      <th>0</th>\n",
              "      <td>LLM-Augmented Knowledge Base</td>\n",
              "      <td>0</td>\n",
              "    </tr>\n",
              "    <tr>\n",
              "      <th>1</th>\n",
              "      <td>LLM as Semantic Content Encoder</td>\n",
              "      <td>0</td>\n",
              "    </tr>\n",
              "    <tr>\n",
              "      <th>2</th>\n",
              "      <td>Instruction Tuning for Recommendation</td>\n",
              "      <td>0</td>\n",
              "    </tr>\n",
              "    <tr>\n",
              "      <th>3</th>\n",
              "      <td>LLM as Explainable Recommender</td>\n",
              "      <td>0</td>\n",
              "    </tr>\n",
              "    <tr>\n",
              "      <th>4</th>\n",
              "      <td>LLM as Direct Recommender (via In-Context Lear...</td>\n",
              "      <td>0</td>\n",
              "    </tr>\n",
              "    <tr>\n",
              "      <th>...</th>\n",
              "      <td>...</td>\n",
              "      <td>...</td>\n",
              "    </tr>\n",
              "    <tr>\n",
              "      <th>215</th>\n",
              "      <td>Reasoning Verification (Entailer)</td>\n",
              "      <td>0</td>\n",
              "    </tr>\n",
              "    <tr>\n",
              "      <th>216</th>\n",
              "      <td>Monte-Carlo Planning for Faithful Reasoning (F...</td>\n",
              "      <td>0</td>\n",
              "    </tr>\n",
              "    <tr>\n",
              "      <th>217</th>\n",
              "      <td>Retrieval-Augmented Reasoning</td>\n",
              "      <td>0</td>\n",
              "    </tr>\n",
              "    <tr>\n",
              "      <th>218</th>\n",
              "      <td>LLM as a Semantic Parser</td>\n",
              "      <td>0</td>\n",
              "    </tr>\n",
              "    <tr>\n",
              "      <th>219</th>\n",
              "      <td>Reasoning on Graphs (RoG)</td>\n",
              "      <td>0</td>\n",
              "    </tr>\n",
              "  </tbody>\n",
              "</table>\n",
              "<p>220 rows × 2 columns</p>\n",
              "</div>"
            ],
            "text/plain": [
              "                                          Pattern Name  cluster\n",
              "0                         LLM-Augmented Knowledge Base        0\n",
              "1                      LLM as Semantic Content Encoder        0\n",
              "2                Instruction Tuning for Recommendation        0\n",
              "3                       LLM as Explainable Recommender        0\n",
              "4    LLM as Direct Recommender (via In-Context Lear...        0\n",
              "..                                                 ...      ...\n",
              "215                  Reasoning Verification (Entailer)        0\n",
              "216  Monte-Carlo Planning for Faithful Reasoning (F...        0\n",
              "217                      Retrieval-Augmented Reasoning        0\n",
              "218                           LLM as a Semantic Parser        0\n",
              "219                          Reasoning on Graphs (RoG)        0\n",
              "\n",
              "[220 rows x 2 columns]"
            ]
          },
          "execution_count": 17,
          "metadata": {},
          "output_type": "execute_result"
        }
      ],
      "source": [
        "new_data"
      ]
    },
    {
      "cell_type": "code",
      "execution_count": 27,
      "metadata": {
        "id": "LBFl3kdQ78hP"
      },
      "outputs": [],
      "source": [
        "num_clusters = len(set(labels))\n",
        "new_data.to_json(f\"/home/hasinthaka/Documents/Projects/AI/AI Pattern Mining/Paper Mining/outputs/[25.09.12] - 02 - Prompt, Temperature, Embedding Model, Clustering changes/patterns_with_{num_clusters}_clusters.json\",index=False,indent=4,orient=\"records\")"
      ]
    },
    {
      "cell_type": "code",
      "execution_count": null,
      "metadata": {
        "id": "_unjJtwI9_U4"
      },
      "outputs": [],
      "source": []
    }
  ],
  "metadata": {
    "accelerator": "GPU",
    "colab": {
      "gpuType": "T4",
      "provenance": []
    },
    "kernelspec": {
      "display_name": ".venv",
      "language": "python",
      "name": "python3"
    },
    "language_info": {
      "codemirror_mode": {
        "name": "ipython",
        "version": 3
      },
      "file_extension": ".py",
      "mimetype": "text/x-python",
      "name": "python",
      "nbconvert_exporter": "python",
      "pygments_lexer": "ipython3",
      "version": "3.12.3"
    }
  },
  "nbformat": 4,
  "nbformat_minor": 0
}
